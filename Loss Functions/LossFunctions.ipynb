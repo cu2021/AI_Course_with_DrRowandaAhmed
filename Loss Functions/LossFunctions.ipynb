{
 "cells": [
  {
   "cell_type": "markdown",
   "id": "a4cdf3f5-91b2-4132-bcdd-b70bda817fe2",
   "metadata": {},
   "source": [
    "# **Loss Functions**"
   ]
  },
  {
   "cell_type": "markdown",
   "id": "ad7d5680-2161-4ddd-8806-06aca2565187",
   "metadata": {},
   "source": [
    "## **Imports**"
   ]
  },
  {
   "cell_type": "code",
   "execution_count": 1,
   "id": "6388b6f1-006f-4653-b717-cf7aac8bfb5b",
   "metadata": {},
   "outputs": [],
   "source": [
    "import numpy as np"
   ]
  },
  {
   "cell_type": "markdown",
   "id": "9a78ecc1-d685-4b80-8042-ee543541b60b",
   "metadata": {},
   "source": [
    "## **Sitting Smaple Data**"
   ]
  },
  {
   "cell_type": "code",
   "execution_count": 2,
   "id": "16c4ede1-6fbe-4bf1-931a-77717b4af334",
   "metadata": {},
   "outputs": [],
   "source": [
    "y_predicted = np.array([1,1,0,0,1])\n",
    "y_true = np.array([0.30,0.7,1,0,0.5])"
   ]
  },
  {
   "cell_type": "markdown",
   "id": "c9e90202-cf5a-462e-8b6a-bc4cdf7a7318",
   "metadata": {},
   "source": [
    "## **Implement Mean Absolute Error (MAE)**"
   ]
  },
  {
   "cell_type": "code",
   "execution_count": 3,
   "id": "cb14eeaf-3209-4058-8bda-cd66f586b108",
   "metadata": {},
   "outputs": [],
   "source": [
    "def mae(y_predicted,y_true):\n",
    "    \n",
    "    total_error = 0\n",
    "    for yp, yt in zip(y_predicted, y_true):\n",
    "        total_error += abs(yp - yt)\n",
    "    print(\"Total error is:\",total_error)\n",
    "    \n",
    "    mae = total_error/len(y_predicted)\n",
    "    print(\"Mean absolute error is:\",mae)\n",
    "    \n",
    "    return mae"
   ]
  },
  {
   "cell_type": "code",
   "execution_count": 4,
   "id": "df5a866c-c29b-42b7-ac41-9ea1380be69d",
   "metadata": {},
   "outputs": [
    {
     "name": "stdout",
     "output_type": "stream",
     "text": [
      "Total error is: 2.5\n",
      "Mean absolute error is: 0.5\n"
     ]
    },
    {
     "data": {
      "text/plain": [
       "0.5"
      ]
     },
     "execution_count": 4,
     "metadata": {},
     "output_type": "execute_result"
    }
   ],
   "source": [
    "mae(y_predicted, y_true)"
   ]
  },
  {
   "cell_type": "markdown",
   "id": "2929da39-f30c-41ea-a599-b401e6eca098",
   "metadata": {},
   "source": [
    "### **Implementing MAE by Numpy**"
   ]
  },
  {
   "cell_type": "markdown",
   "id": "dfad7222-199b-4e0c-9510-a51ac8640f10",
   "metadata": {},
   "source": [
    "$\\text{MAE} = \\frac{1}{n} \\sum_{i=1}^{n} \\left| y_{\\text{predicted},i} - y_{\\text{true},i} \\right|\n",
    "$"
   ]
  },
  {
   "cell_type": "code",
   "execution_count": 6,
   "id": "dd544ee2-fc52-4183-bbba-cc3b273775dd",
   "metadata": {},
   "outputs": [],
   "source": [
    "def mae_numpy(y_predicted,y_true):\n",
    "    return np.mean(np.abs(y_predicted-y_true))"
   ]
  },
  {
   "cell_type": "code",
   "execution_count": 7,
   "id": "625c6759-c84b-4991-b5b4-290b24886039",
   "metadata": {},
   "outputs": [
    {
     "data": {
      "text/plain": [
       "0.5"
      ]
     },
     "execution_count": 7,
     "metadata": {},
     "output_type": "execute_result"
    }
   ],
   "source": [
    "mae_numpy(y_predicted,y_true)"
   ]
  },
  {
   "cell_type": "markdown",
   "id": "58ee9a87-64b3-47ac-a7c3-7a10c30f0302",
   "metadata": {},
   "source": [
    "## **Mean Squared Error**"
   ]
  },
  {
   "cell_type": "markdown",
   "id": "745c535a-62cc-482c-9422-3a2cbb3d0524",
   "metadata": {},
   "source": [
    "$\\text{MSE} = \\frac{1}{n} \\sum_{i=1}^{n} \\left( y_{\\text{predicted},i} - y_{\\text{true},i} \\right)^2\n",
    "$"
   ]
  },
  {
   "cell_type": "code",
   "execution_count": 8,
   "id": "59a05375-97c4-4377-8325-1f07f32995b1",
   "metadata": {},
   "outputs": [],
   "source": [
    "def mse(y_predicted,y_true):\n",
    "    \n",
    "    total_error = 0\n",
    "    for yp, yt in zip(y_predicted, y_true):\n",
    "        total_error += (yp - yt) ** 2\n",
    "    print(\"Total error is:\",total_error)\n",
    "    \n",
    "    mse = total_error/len(y_predicted)\n",
    "    print(\"Mean absolute error is:\",mse)\n",
    "    \n",
    "    return mse"
   ]
  },
  {
   "cell_type": "code",
   "execution_count": 9,
   "id": "361e8e5b-6bd6-42ca-9177-590bd2750af8",
   "metadata": {},
   "outputs": [
    {
     "name": "stdout",
     "output_type": "stream",
     "text": [
      "Total error is: 1.83\n",
      "Mean absolute error is: 0.366\n"
     ]
    },
    {
     "data": {
      "text/plain": [
       "0.366"
      ]
     },
     "execution_count": 9,
     "metadata": {},
     "output_type": "execute_result"
    }
   ],
   "source": [
    "mse(y_predicted,y_true)"
   ]
  },
  {
   "cell_type": "markdown",
   "id": "cd66a589-6676-4f01-9368-dc0ac0cce115",
   "metadata": {},
   "source": [
    "### **MSE Implentaion Using Numpy**\n",
    "* This type of error or loss function increases the penality."
   ]
  },
  {
   "cell_type": "code",
   "execution_count": 10,
   "id": "62d93d2a-aa58-4402-835a-2ffd85f6edab",
   "metadata": {},
   "outputs": [],
   "source": [
    "def mse_numpy(y_predicted, y_true):\n",
    "    return np.mean((y_predicted-y_true)**2)"
   ]
  },
  {
   "cell_type": "code",
   "execution_count": 11,
   "id": "accb4cf5-83d3-4b87-8221-c8c2ab3b2a2a",
   "metadata": {},
   "outputs": [
    {
     "data": {
      "text/plain": [
       "0.366"
      ]
     },
     "execution_count": 11,
     "metadata": {},
     "output_type": "execute_result"
    }
   ],
   "source": [
    "mse_numpy(y_predicted, y_true)"
   ]
  },
  {
   "cell_type": "markdown",
   "id": "6930f349-12c0-44a6-81d4-6cc984abf70e",
   "metadata": {},
   "source": [
    "## **Conclusion:** \n",
    "* **Mean Squared Error (MSE)**: Squaring emphasizes larger discrepancies between predictions and actual values, which can be useful when you want to heavily penalize larger mistakes. However, it might not be ideal if your model is overly influenced by outliers.\n",
    "\n",
    "* In contrast, the **Mean Absolute Error (MAE)** does not square the errors and instead uses the absolute value, which gives equal weight to all errors, regardless of size. Therefore, MSE tends to increase penalties for large deviations more than MAE does."
   ]
  },
  {
   "cell_type": "markdown",
   "id": "61a9e138-bd8a-4666-9d7a-1a384d56b63b",
   "metadata": {},
   "source": [
    "## **Log Loss (Binary Cross-Entropy)**\n",
    "$\\text{Log Loss} = - \\frac{1}{n} \\sum_{i=1}^{n} \\left( y_{\\text{true},i} \\cdot \\log(y_{\\text{predicted},i}) + (1 - y_{\\text{true},i}) \\cdot \\log(1 - y_{\\text{predicted},i}) \\right)$"
   ]
  },
  {
   "cell_type": "code",
   "execution_count": 15,
   "id": "b0600ad7-cf19-47e0-a2e0-cb7098079124",
   "metadata": {},
   "outputs": [],
   "source": [
    "def log_loss(y_predicted, y_true):\n",
    "    epsilon = 1e-15 #To avoid log(0) errors\n",
    "    y_predicted = np.clip(y_predicted, epsilon, 1 - epsilon) #To avoid undefined valued like:log(0)\n",
    "    return -np.mean(y_true * np.log(y_predicted) + (1 - y_true) * np.log(1 - y_predicted))    "
   ]
  },
  {
   "cell_type": "code",
   "execution_count": 16,
   "id": "c195154c-72f5-4b3e-93ce-258abbf8f16a",
   "metadata": {},
   "outputs": [
    {
     "data": {
      "text/plain": [
       "17.2696280766844"
      ]
     },
     "execution_count": 16,
     "metadata": {},
     "output_type": "execute_result"
    }
   ],
   "source": [
    "log_loss(y_predicted,y_true)"
   ]
  },
  {
   "cell_type": "markdown",
   "id": "cd0b3589-6577-4fdd-bab6-12dcd37e5407",
   "metadata": {},
   "source": [
    "### **Explanation:**\n",
    "* $ y_{\\text{true}} \\cdot \\log(y_{\\text{predicted}})$:\n",
    "\n",
    "    * This part handles the loss when the true label is 1. It calculates the log of the predicted probability for the positive class and multiplies it by the true label.\n",
    "    * If the true label is 1 and the predicted probability is low, the log term will be a large negative number, increasing the overall loss.\n",
    "\n",
    "* $(1 - y_{\\text{true}}) \\cdot \\log(1 - y_{\\text{predicted}})$:\n",
    "    * This part handles the loss when the true label is 0. It calculates the log of the predicted probability for the negative class (i.e., 1 minus the predicted probability) and multiplies it by $(1-y_{\\text{true}})$\n",
    "    * If the true label is 0 and the predicted probability is close to 1, the loss will increase significantly.(since $\\log(1 - y_{\\text{predicted}})$ will become a large negative number).\n",
    "* **Sum the Two Terms**:\n",
    "\n",
    "    * These two terms are summed to get the total log loss for each prediction, which measures how well the predicted probabilities match the true binary labels.\n",
    "\n",
    "* **Take the Mean:**\n",
    "\n",
    "    * `np.mean()`: averages the log loss over all samples in the dataset, giving a single value that represents the model's overall performance.\n",
    "\n",
    "* **Negative Sign:**\n",
    "\n",
    "    * The result is negated (-np.mean()) because log probabilities are typically negative, and we want the final loss to be positive.\n"
   ]
  },
  {
   "cell_type": "markdown",
   "id": "25d4c56c-a642-481a-82d2-1fded475f1c0",
   "metadata": {},
   "source": [
    "## **Summary:**\n",
    "* **Mean Squared Error (MSE)**: is designed for regression problems where the output is continuous, not for probabilistic binary classification.\n",
    "* **Log Loss (Binary Cross-Entropy)**: is specifically designed to measure how well a model's predicted probabilities align with the true binary labels, making it the ideal choice for logistic regression.\n",
    "* Hence, Log Loss is used instead of MSE for logistic regression, ensuring better optimization, proper gradient updates, and compatibility with the probabilistic nature of the task."
   ]
  }
 ],
 "metadata": {
  "kernelspec": {
   "display_name": "Python 3 (ipykernel)",
   "language": "python",
   "name": "python3"
  },
  "language_info": {
   "codemirror_mode": {
    "name": "ipython",
    "version": 3
   },
   "file_extension": ".py",
   "mimetype": "text/x-python",
   "name": "python",
   "nbconvert_exporter": "python",
   "pygments_lexer": "ipython3",
   "version": "3.12.4"
  }
 },
 "nbformat": 4,
 "nbformat_minor": 5
}
