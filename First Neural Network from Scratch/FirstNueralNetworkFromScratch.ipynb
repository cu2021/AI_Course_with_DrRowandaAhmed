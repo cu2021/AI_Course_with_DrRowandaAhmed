{
 "cells": [
  {
   "cell_type": "markdown",
   "id": "08bc9494-8b71-4c2c-8d7c-e28618770ddd",
   "metadata": {
    "panel-layout": {
     "height": 103.04,
     "visible": true,
     "width": 100
    }
   },
   "source": [
    "# **First Neural Network** \n",
    "# Neural Network From Scratch"
   ]
  },
  {
   "cell_type": "markdown",
   "id": "c43e65b3-d425-40cb-bbf0-039f5c57113a",
   "metadata": {
    "panel-layout": {
     "height": 51.14,
     "visible": true,
     "width": 100
    }
   },
   "source": [
    "* **Import Libraries**"
   ]
  },
  {
   "cell_type": "code",
   "execution_count": 1,
   "id": "92ad640e-32e8-431f-a97d-051cd9ee5664",
   "metadata": {},
   "outputs": [],
   "source": [
    "from numpy import exp, array, random, dot"
   ]
  },
  {
   "cell_type": "markdown",
   "id": "d6514fdc-7854-4995-a9b6-c1c493844a94",
   "metadata": {
    "panel-layout": {
     "height": 50.83,
     "visible": true,
     "width": 100
    }
   },
   "source": [
    "## Implenemting the **Neural Network** class"
   ]
  },
  {
   "cell_type": "code",
   "execution_count": 2,
   "id": "79eb93b7-a952-4404-b275-c7b7933ad732",
   "metadata": {},
   "outputs": [],
   "source": [
    "class NeuralNetwork():\n",
    "    def __init__(self):\n",
    "        # Seed the random number generator, so it generates the same numbers\n",
    "        # every time the program runs.\n",
    "        random.seed(1)\n",
    "\n",
    "        # We model a single neuron, with 3 input connections and 1 output connection.\n",
    "        # We assign random weights to a 3 x 1 matrix, with values in the range -1 to 1\n",
    "        # and mean 0.\n",
    "        self.synaptic_weights = 2 * random.random((3, 1)) - 1"
   ]
  },
  {
   "cell_type": "markdown",
   "id": "d82d5ff6-e215-4ecd-ad4e-a25735ed2536",
   "metadata": {
    "panel-layout": {
     "height": 102.56,
     "visible": true,
     "width": 100
    }
   },
   "source": [
    "* The sigmoid function, with describes an S shaped curve.\n",
    "We pass the weighted sum of the inputs through this function to normalise them between 0 and 1.\n",
    "* Sigmoid function is:   *$\\large\\sigma(x) = \\frac{1}{1 + \\exp(-x)}$* .\r\n"
   ]
  },
  {
   "cell_type": "code",
   "execution_count": 3,
   "id": "2b879bb3-0d48-45d8-b54c-f0e6514c9b69",
   "metadata": {},
   "outputs": [],
   "source": [
    "    def __Sigmoid(self,x):\n",
    "        return 1 / (1 + exp(-x))"
   ]
  },
  {
   "cell_type": "markdown",
   "id": "b1ace91a-5913-46ae-9f16-044712e6b149",
   "metadata": {
    "panel-layout": {
     "height": 119.7,
     "visible": true,
     "width": 100
    }
   },
   "source": [
    "* The derivative of the Sigmoid function.\n",
    "* This is the gradient of the Sigmoid curve.\n",
    "* It indicates how confident we are about the existing weight.\n",
    "* The formula:\n",
    "  **$\\sigma'(x) = \\sigma(x) (1 - \\sigma(x))$**\r\n"
   ]
  },
  {
   "cell_type": "code",
   "execution_count": 4,
   "id": "0690b9ac-13b5-4b08-8d87-83d08c8c424f",
   "metadata": {},
   "outputs": [],
   "source": [
    "    def __Sigmoid_derivative(self, x):\n",
    "        return x * (1 - x)"
   ]
  },
  {
   "cell_type": "markdown",
   "id": "a0be29e8-3297-42f3-9b5a-e15e150feac8",
   "metadata": {
    "panel-layout": {
     "height": 68.28,
     "visible": true,
     "width": 100
    }
   },
   "source": [
    "* We train the neural network through a process of trial and error.\n",
    "* Adjusting the synatic weights each time."
   ]
  },
  {
   "cell_type": "code",
   "execution_count": 5,
   "id": "f09f73de-3444-4999-a421-e00d0113980c",
   "metadata": {},
   "outputs": [],
   "source": [
    "    def train(self, training_set_inputs, training_set_outputs, number_of_training_iterations):\n",
    "        \n",
    "        for iteration in range(number_of_training_iterations):\n",
    "            # pass the training set through our neural network (a single neuron).\n",
    "            output = self.think(training_set_inputs)\n",
    "            \n",
    "            #calculate the error (the difference btween the desired output and the predicted output)\n",
    "            error = training_set_outputs - output\n",
    "            \n",
    "            # Multiply the error by the input and again by the gradient of the sigmoid curve\n",
    "            # This means less confident weights are adjusted more.\n",
    "            # This means inputs, which are zero, do not cause changes to the weights.\n",
    "            adjustment = dot(training_set_inputs.T, error * self.__sigmoid_derivative(output))\n",
    "            \n",
    "            # Adjust the weights.\n",
    "            self.synaptic_weights += adjustment\n",
    "            "
   ]
  },
  {
   "cell_type": "markdown",
   "id": "afa7f7a2-9873-447a-8f35-57701cc71e0e",
   "metadata": {
    "panel-layout": {
     "height": 85.42,
     "visible": true,
     "width": 100
    }
   },
   "source": [
    "* **The nueral network thinks!**\n",
    "* In another meaning, Pass inputs through the newral network and applying the activation function sigmoid"
   ]
  },
  {
   "cell_type": "code",
   "execution_count": 6,
   "id": "6efd855d-538a-4e19-b553-a990f75beee2",
   "metadata": {},
   "outputs": [],
   "source": [
    "    def think(self, inputs):\n",
    "        # pass inputs through our neural network (our single neuron)\n",
    "        return self.__simoid(dot(inputs,self.synaptic_weights))"
   ]
  },
  {
   "cell_type": "markdown",
   "id": "a543b9ff-ac38-4d5d-8c95-b2e0444ed7c3",
   "metadata": {
    "panel-layout": {
     "height": 51.14,
     "visible": true,
     "width": 100
    }
   },
   "source": [
    "**Lets add them in one block**"
   ]
  },
  {
   "cell_type": "code",
   "execution_count": 7,
   "id": "c324c890-67e0-4390-92b1-0f914d6e7d10",
   "metadata": {},
   "outputs": [],
   "source": [
    "class NeuralNetwork():\n",
    "    def __init__(self):\n",
    "        # Seed the random number generator, so it generates the same numbers\n",
    "        # every time the program runs.\n",
    "        random.seed(1)\n",
    "\n",
    "        # We model a single neuron, with 3 input connections and 1 output connection.\n",
    "        # We assign random weights to a 3 x 1 matrix, with values in the range -1 to 1\n",
    "        # and mean 0.\n",
    "        self.synaptic_weights = 2 * random.random((3, 1)) - 1\n",
    "\n",
    "    # The Sigmoid function, which describes an S shaped curve.\n",
    "    # We pass the weighted sum of the inputs through this function to\n",
    "    # normalise them between 0 and 1.\n",
    "    def __sigmoid(self, x):\n",
    "        return 1 / (1 + exp(-x))\n",
    "\n",
    "    # The derivative of the Sigmoid function.\n",
    "    # This is the gradient of the Sigmoid curve.\n",
    "    # It indicates how confident we are about the existing weight.\n",
    "    def __sigmoid_derivative(self, x):\n",
    "        return x * (1 - x)\n",
    "\n",
    "    # We train the neural network through a process of trial and error.\n",
    "    # Adjusting the synaptic weights each time.\n",
    "    def train(self, training_set_inputs, training_set_outputs, number_of_training_iterations):\n",
    "        for iteration in range(number_of_training_iterations):\n",
    "            # Pass the training set through our neural network (a single neuron).\n",
    "            output = self.think(training_set_inputs)\n",
    "\n",
    "            # Calculate the error (The difference between the desired output\n",
    "            # and the predicted output).\n",
    "            error = training_set_outputs - output\n",
    "\n",
    "            # Multiply the error by the input and again by the gradient of the Sigmoid curve.\n",
    "            # This means less confident weights are adjusted more.\n",
    "            # This means inputs, which are zero, do not cause changes to the weights.\n",
    "            adjustment = dot(training_set_inputs.T, error * self.__sigmoid_derivative(output))\n",
    "\n",
    "            # Adjust the weights.\n",
    "            self.synaptic_weights += adjustment\n",
    "\n",
    "    # The neural network thinks.\n",
    "    def think(self, inputs):\n",
    "        # Pass inputs through our neural network (our single neuron).\n",
    "        return self.__sigmoid(dot(inputs, self.synaptic_weights))"
   ]
  },
  {
   "cell_type": "markdown",
   "id": "006f796a-bb43-4a83-846f-423a73ea2bc2",
   "metadata": {
    "panel-layout": {
     "height": 51.14,
     "visible": true,
     "width": 100
    }
   },
   "source": [
    "**Lets Try it**"
   ]
  },
  {
   "cell_type": "markdown",
   "id": "6e0156af-8d20-467f-8ddc-11ff38a5686a",
   "metadata": {
    "panel-layout": {
     "height": 51.14,
     "visible": true,
     "width": 100
    }
   },
   "source": [
    "* Initialize a single neuron neural network object."
   ]
  },
  {
   "cell_type": "code",
   "execution_count": 8,
   "id": "96138057-8df8-4102-9993-d6e51c49bc6b",
   "metadata": {},
   "outputs": [],
   "source": [
    "neural_network = NeuralNetwork()"
   ]
  },
  {
   "cell_type": "markdown",
   "id": "ebdbdb2c-d85b-454a-a4f3-94f345ac2d8f",
   "metadata": {
    "panel-layout": {
     "height": 51.14,
     "visible": true,
     "width": 100
    }
   },
   "source": [
    "* print neural_network.synaptic_weights"
   ]
  },
  {
   "cell_type": "code",
   "execution_count": 9,
   "id": "52478fdd-ee36-42cf-b959-07de624a96c9",
   "metadata": {
    "panel-layout": {
     "height": 0,
     "visible": true,
     "width": 100
    }
   },
   "outputs": [
    {
     "name": "stdout",
     "output_type": "stream",
     "text": [
      "Random startin synaptic weights: \n",
      " [[-0.16595599]\n",
      " [ 0.44064899]\n",
      " [-0.99977125]]\n"
     ]
    }
   ],
   "source": [
    "print(\"Random startin synaptic weights: \\n\",neural_network.synaptic_weights)"
   ]
  },
  {
   "cell_type": "markdown",
   "id": "aac70d78-7d92-4287-a37f-af3136f0e7ef",
   "metadata": {
    "panel-layout": {
     "height": 68.28,
     "visible": true,
     "width": 100
    }
   },
   "source": [
    "* The training set. we have 4 examples, each consisting of 3 input mvalues and 1 output value\n"
   ]
  },
  {
   "cell_type": "code",
   "execution_count": 10,
   "id": "57fab98e-5b1d-4ccf-a840-6430958d8d03",
   "metadata": {},
   "outputs": [],
   "source": [
    "training_set_inputs = array([[0,0,1],[1,1,1],[1,0,1],[0,1,1]])\n",
    "training_set_outputs = array([[0,1,1,0]]).T"
   ]
  },
  {
   "cell_type": "markdown",
   "id": "f4e5489d-0f75-4438-b1de-46f28e1b9416",
   "metadata": {
    "panel-layout": {
     "height": 68.28,
     "visible": true,
     "width": 100
    }
   },
   "source": [
    "* Train the neural network using a training set.\n",
    "* Do it 10,000 times and make small adjustments each time."
   ]
  },
  {
   "cell_type": "code",
   "execution_count": 11,
   "id": "af2b9d61-b785-453d-a39d-68ae73a9bea9",
   "metadata": {
    "panel-layout": {
     "height": 0,
     "visible": true,
     "width": 100
    }
   },
   "outputs": [],
   "source": [
    "neural_network.train(training_set_inputs,  training_set_outputs, 10000)"
   ]
  },
  {
   "cell_type": "markdown",
   "id": "7d6adc90-8ec6-413b-b1f7-5e2a9acd79d5",
   "metadata": {
    "panel-layout": {
     "height": 51.14,
     "visible": true,
     "width": 100
    }
   },
   "source": [
    "* Printing the new weights"
   ]
  },
  {
   "cell_type": "code",
   "execution_count": 12,
   "id": "3a07023a-7356-4cc4-934a-4ecdac152b8b",
   "metadata": {
    "panel-layout": {
     "height": 0,
     "visible": true,
     "width": 100
    }
   },
   "outputs": [
    {
     "name": "stdout",
     "output_type": "stream",
     "text": [
      "New synaptic weights after training: \n",
      " [[ 9.67299303]\n",
      " [-0.2078435 ]\n",
      " [-4.62963669]]\n"
     ]
    }
   ],
   "source": [
    "print(\"New synaptic weights after training: \\n\", neural_network.synaptic_weights )"
   ]
  },
  {
   "cell_type": "markdown",
   "id": "3b05a886-74ff-4cfd-9729-264babf57055",
   "metadata": {
    "panel-layout": {
     "height": 51.14,
     "visible": true,
     "width": 100
    }
   },
   "source": [
    "* Test the neural network with a new situation."
   ]
  },
  {
   "cell_type": "code",
   "execution_count": 13,
   "id": "364bf455-3573-4467-bafe-2ef8fb04b3cb",
   "metadata": {
    "panel-layout": {
     "height": 0,
     "visible": true,
     "width": 100
    }
   },
   "outputs": [
    {
     "name": "stdout",
     "output_type": "stream",
     "text": [
      "Considering new situation [1, 0, 0] -> ?: \n",
      "[0.99993704]\n"
     ]
    }
   ],
   "source": [
    "print(\"Considering new situation [1, 0, 0] -> ?: \")\n",
    "print(neural_network.think(array([1,0,0])))"
   ]
  },
  {
   "cell_type": "code",
   "execution_count": null,
   "id": "660d94c1-b592-4d1e-9fc8-d87b83344761",
   "metadata": {},
   "outputs": [],
   "source": []
  }
 ],
 "metadata": {
  "kernelspec": {
   "display_name": "Python 3 (ipykernel)",
   "language": "python",
   "name": "python3"
  },
  "language_info": {
   "codemirror_mode": {
    "name": "ipython",
    "version": 3
   },
   "file_extension": ".py",
   "mimetype": "text/x-python",
   "name": "python",
   "nbconvert_exporter": "python",
   "pygments_lexer": "ipython3",
   "version": "3.12.4"
  },
  "panel-cell-order": [
   "08bc9494-8b71-4c2c-8d7c-e28618770ddd",
   "c43e65b3-d425-40cb-bbf0-039f5c57113a",
   "d6514fdc-7854-4995-a9b6-c1c493844a94",
   "d82d5ff6-e215-4ecd-ad4e-a25735ed2536",
   "b1ace91a-5913-46ae-9f16-044712e6b149",
   "a0be29e8-3297-42f3-9b5a-e15e150feac8",
   "afa7f7a2-9873-447a-8f35-57701cc71e0e",
   "a543b9ff-ac38-4d5d-8c95-b2e0444ed7c3",
   "006f796a-bb43-4a83-846f-423a73ea2bc2",
   "6e0156af-8d20-467f-8ddc-11ff38a5686a",
   "ebdbdb2c-d85b-454a-a4f3-94f345ac2d8f",
   "52478fdd-ee36-42cf-b959-07de624a96c9",
   "aac70d78-7d92-4287-a37f-af3136f0e7ef",
   "f4e5489d-0f75-4438-b1de-46f28e1b9416",
   "af2b9d61-b785-453d-a39d-68ae73a9bea9",
   "7d6adc90-8ec6-413b-b1f7-5e2a9acd79d5",
   "3a07023a-7356-4cc4-934a-4ecdac152b8b",
   "3b05a886-74ff-4cfd-9729-264babf57055",
   "364bf455-3573-4467-bafe-2ef8fb04b3cb"
  ]
 },
 "nbformat": 4,
 "nbformat_minor": 5
}
