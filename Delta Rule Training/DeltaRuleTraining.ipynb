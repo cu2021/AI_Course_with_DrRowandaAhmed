{
 "cells": [
  {
   "cell_type": "markdown",
   "id": "6be0a9f3-5b59-4576-9abb-03e4cb0db334",
   "metadata": {},
   "source": [
    "# **Delta Rule Training**"
   ]
  },
  {
   "cell_type": "markdown",
   "id": "6b6c51dc-dfea-4491-b715-cef7190a7f89",
   "metadata": {},
   "source": [
    "* Imports"
   ]
  },
  {
   "cell_type": "code",
   "execution_count": 1,
   "id": "174579f5-369c-4bde-b496-2c3f3a2e85a9",
   "metadata": {},
   "outputs": [],
   "source": [
    "import numpy as np"
   ]
  },
  {
   "cell_type": "markdown",
   "id": "2f6ce272-8c33-4886-80c5-3e6fe9d21410",
   "metadata": {},
   "source": [
    "* Sample dataset: `AND Gate`"
   ]
  },
  {
   "cell_type": "code",
   "execution_count": 4,
   "id": "04581cef-d206-4786-82d9-26088dae9b66",
   "metadata": {},
   "outputs": [],
   "source": [
    "# Sample input for AND Gate\n",
    "X = np.array([[0,0], [0,1], [1,0], [1,1]])\n",
    "# Desired output for AND Gate\n",
    "d = np.array([0,0,0,1])"
   ]
  },
  {
   "cell_type": "markdown",
   "id": "90851e99-2589-49f6-b115-3f42216c86b4",
   "metadata": {},
   "source": [
    "* Initialize `weights` and `learning rate`"
   ]
  },
  {
   "cell_type": "code",
   "execution_count": 5,
   "id": "54b4c7e1-b58d-4d1e-ad13-9b0810e855e9",
   "metadata": {},
   "outputs": [],
   "source": [
    "weights = np.random.rand(2)\n",
    "bias = np.random.rand(1)\n",
    "learning_rate = 0.1"
   ]
  },
  {
   "cell_type": "markdown",
   "id": "1810d836-eb50-46a8-943d-1ee133f094d7",
   "metadata": {},
   "source": [
    "* Training with `Delta Rule`"
   ]
  },
  {
   "cell_type": "code",
   "execution_count": 7,
   "id": "bb8128c9-d11b-4a73-80d5-fe25665edf10",
   "metadata": {},
   "outputs": [],
   "source": [
    "# Number of epochs\n",
    "for epoch in range(100):\n",
    "    for i in range(len(X)):\n",
    "        x_i = X[i]\n",
    "        desired_output = d[i]\n",
    "        actual_output = np.dot(x_i, weights) + bias\n",
    "        error = desired_output - actual_output\n",
    "\n",
    "        # Update weights and bias\n",
    "        weights += learning_rate * error * x_i\n",
    "        bias += learning_rate * error"
   ]
  },
  {
   "cell_type": "markdown",
   "id": "38cf80d1-758f-4e7f-a3c9-e7686d2300d4",
   "metadata": {},
   "source": [
    "* Printing the new `weights` and `bias`"
   ]
  },
  {
   "cell_type": "code",
   "execution_count": 8,
   "id": "2c526927-e26b-4fe7-abda-3f0e7c81b3a6",
   "metadata": {},
   "outputs": [
    {
     "name": "stdout",
     "output_type": "stream",
     "text": [
      "Trained weights:  [0.55520808 0.52741183]\n",
      "Trained bias:  [-0.27729626]\n"
     ]
    }
   ],
   "source": [
    "print('Trained weights: ', weights)\n",
    "print('Trained bias: ', bias)"
   ]
  },
  {
   "cell_type": "code",
   "execution_count": null,
   "id": "6e30fac9-712b-4751-9726-08e40ea78ef0",
   "metadata": {},
   "outputs": [],
   "source": []
  }
 ],
 "metadata": {
  "kernelspec": {
   "display_name": "Python 3 (ipykernel)",
   "language": "python",
   "name": "python3"
  },
  "language_info": {
   "codemirror_mode": {
    "name": "ipython",
    "version": 3
   },
   "file_extension": ".py",
   "mimetype": "text/x-python",
   "name": "python",
   "nbconvert_exporter": "python",
   "pygments_lexer": "ipython3",
   "version": "3.12.4"
  }
 },
 "nbformat": 4,
 "nbformat_minor": 5
}
