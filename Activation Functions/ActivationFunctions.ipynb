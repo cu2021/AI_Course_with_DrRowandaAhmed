{
 "cells": [
  {
   "cell_type": "markdown",
   "id": "db0cba38-4d89-47cd-9522-e03c68a6820a",
   "metadata": {},
   "source": [
    "# **Implementation of activation functions in python**"
   ]
  },
  {
   "cell_type": "markdown",
   "id": "d927809f-bacd-49b0-84cb-290b997e26b9",
   "metadata": {},
   "source": [
    "## **Imports**"
   ]
  },
  {
   "cell_type": "code",
   "execution_count": 3,
   "id": "87908316-f50e-48ef-9e75-51705034eb33",
   "metadata": {},
   "outputs": [],
   "source": [
    "import math"
   ]
  },
  {
   "cell_type": "markdown",
   "id": "d6a312ed-b438-4246-8b99-5fdd42f30cbf",
   "metadata": {},
   "source": [
    "## **Sigmoid Function**"
   ]
  },
  {
   "cell_type": "markdown",
   "id": "f4e66e1d-8850-4028-85f6-219551951f5c",
   "metadata": {},
   "source": [
    "* Sigmoid Function: *$\\large\\sigma(x) = \\frac{1}{1 + \\exp(-x)}$* ."
   ]
  },
  {
   "cell_type": "code",
   "execution_count": 5,
   "id": "0547de18-b3f3-40bd-a8cd-df9891b9db18",
   "metadata": {},
   "outputs": [],
   "source": [
    "def sigmoid(x):\n",
    "    return (1 / (1 + math.exp(-x)))\n",
    "    "
   ]
  },
  {
   "cell_type": "code",
   "execution_count": 6,
   "id": "7791b415-107d-4a08-b756-2a7efe40a096",
   "metadata": {},
   "outputs": [
    {
     "data": {
      "text/plain": [
       "1.0"
      ]
     },
     "execution_count": 6,
     "metadata": {},
     "output_type": "execute_result"
    }
   ],
   "source": [
    "sigmoid(100)"
   ]
  },
  {
   "cell_type": "code",
   "execution_count": 7,
   "id": "0dca3f08-7c95-4515-9107-a41f1f0be095",
   "metadata": {},
   "outputs": [
    {
     "data": {
      "text/plain": [
       "3.7200759760208356e-44"
      ]
     },
     "execution_count": 7,
     "metadata": {},
     "output_type": "execute_result"
    }
   ],
   "source": [
    "sigmoid(-100)"
   ]
  },
  {
   "cell_type": "code",
   "execution_count": 8,
   "id": "47062e5f-b755-4912-83ea-c70385229386",
   "metadata": {},
   "outputs": [
    {
     "data": {
      "text/plain": [
       "0.5"
      ]
     },
     "execution_count": 8,
     "metadata": {},
     "output_type": "execute_result"
    }
   ],
   "source": [
    "sigmoid(0)"
   ]
  },
  {
   "cell_type": "code",
   "execution_count": 9,
   "id": "8d29d7d7-a253-48c0-ac9f-e5584ad6c3e8",
   "metadata": {},
   "outputs": [
    {
     "data": {
      "text/plain": [
       "0.6224593312018546"
      ]
     },
     "execution_count": 9,
     "metadata": {},
     "output_type": "execute_result"
    }
   ],
   "source": [
    "sigmoid(0.5)"
   ]
  },
  {
   "cell_type": "markdown",
   "id": "b74b7379-f36d-47f9-89f3-c22e712612d6",
   "metadata": {},
   "source": [
    "## Tanh Activation Function\n",
    "\n",
    "* The function: $\\text{Tanh}(x) = \\tanh(x) = \\frac{e^{x} - e^{-x}}{e^{x} + e^{-x}}\\Large$\r\n"
   ]
  },
  {
   "cell_type": "code",
   "execution_count": 10,
   "id": "9334b22b-5a58-4d52-af57-0c91f8c0dd5e",
   "metadata": {},
   "outputs": [],
   "source": [
    "def tanh(x):\n",
    "    return (math.exp(x) - math.exp(-x)) / (math.exp(x) + math.exp(-x))"
   ]
  },
  {
   "cell_type": "code",
   "execution_count": 11,
   "id": "d9bcf52a-1b13-414a-9242-deeec1dbb2ee",
   "metadata": {},
   "outputs": [
    {
     "data": {
      "text/plain": [
       "-1.0"
      ]
     },
     "execution_count": 11,
     "metadata": {},
     "output_type": "execute_result"
    }
   ],
   "source": [
    "tanh(-56)"
   ]
  },
  {
   "cell_type": "code",
   "execution_count": 12,
   "id": "02db7718-fc25-4005-8ad9-6be4e8f8b2ee",
   "metadata": {},
   "outputs": [
    {
     "data": {
      "text/plain": [
       "1.0"
      ]
     },
     "execution_count": 12,
     "metadata": {},
     "output_type": "execute_result"
    }
   ],
   "source": [
    "tanh(50)"
   ]
  },
  {
   "cell_type": "code",
   "execution_count": 13,
   "id": "bdb44fd2-b29c-4398-a3de-b52cebf9e12a",
   "metadata": {},
   "outputs": [
    {
     "data": {
      "text/plain": [
       "0.7615941559557649"
      ]
     },
     "execution_count": 13,
     "metadata": {},
     "output_type": "execute_result"
    }
   ],
   "source": [
    "tanh(1)"
   ]
  },
  {
   "cell_type": "markdown",
   "id": "60e58ca4-cbe4-475c-8c5c-3be9b0611028",
   "metadata": {},
   "source": [
    "## **ReLU**\n",
    "\n",
    "* The Function is: $\\text{ReLU}(x) = \\max(0, x)$\r\n"
   ]
  },
  {
   "cell_type": "code",
   "execution_count": 14,
   "id": "c207742f-4030-48db-950b-982e47d55bf8",
   "metadata": {},
   "outputs": [],
   "source": [
    "def relu(x):\n",
    "    return max(0, x)"
   ]
  },
  {
   "cell_type": "code",
   "execution_count": 15,
   "id": "2b98437d-de65-47ad-917c-7b324acef5f5",
   "metadata": {},
   "outputs": [
    {
     "data": {
      "text/plain": [
       "0"
      ]
     },
     "execution_count": 15,
     "metadata": {},
     "output_type": "execute_result"
    }
   ],
   "source": [
    "relu(-100)"
   ]
  },
  {
   "cell_type": "code",
   "execution_count": 17,
   "id": "e6234f22-1f1d-47ea-ad53-f3c8095f9aed",
   "metadata": {},
   "outputs": [
    {
     "data": {
      "text/plain": [
       "100"
      ]
     },
     "execution_count": 17,
     "metadata": {},
     "output_type": "execute_result"
    }
   ],
   "source": [
    "relu(100)"
   ]
  },
  {
   "cell_type": "markdown",
   "id": "19373527-6da6-498f-8725-1f8fbdcf8958",
   "metadata": {},
   "source": [
    "## Leaky ReLU\n",
    "\n",
    "* The Function: $\\text{LeakyReLU}(x) = \\max((0.1*x), x)$\r\n"
   ]
  },
  {
   "cell_type": "code",
   "execution_count": 18,
   "id": "5f2b3cda-7fd6-4646-ab7b-64d0cb3f7e24",
   "metadata": {},
   "outputs": [],
   "source": [
    "def leakyRelu(x):\n",
    "    return max(0.1*x, x)"
   ]
  },
  {
   "cell_type": "code",
   "execution_count": 20,
   "id": "4224ec99-cf3c-48be-a550-f9a14c58fcf0",
   "metadata": {},
   "outputs": [
    {
     "data": {
      "text/plain": [
       "-10.0"
      ]
     },
     "execution_count": 20,
     "metadata": {},
     "output_type": "execute_result"
    }
   ],
   "source": [
    "leakyRelu(-100)"
   ]
  },
  {
   "cell_type": "code",
   "execution_count": 21,
   "id": "589c6fe9-74c4-4c6f-8c38-cf6dda4e89dc",
   "metadata": {},
   "outputs": [
    {
     "data": {
      "text/plain": [
       "100"
      ]
     },
     "execution_count": 21,
     "metadata": {},
     "output_type": "execute_result"
    }
   ],
   "source": [
    "leakyRelu(100)"
   ]
  },
  {
   "cell_type": "code",
   "execution_count": null,
   "id": "ead35777-6345-44b0-805e-8cff5cf1b545",
   "metadata": {},
   "outputs": [],
   "source": []
  }
 ],
 "metadata": {
  "kernelspec": {
   "display_name": "Python 3 (ipykernel)",
   "language": "python",
   "name": "python3"
  },
  "language_info": {
   "codemirror_mode": {
    "name": "ipython",
    "version": 3
   },
   "file_extension": ".py",
   "mimetype": "text/x-python",
   "name": "python",
   "nbconvert_exporter": "python",
   "pygments_lexer": "ipython3",
   "version": "3.12.4"
  }
 },
 "nbformat": 4,
 "nbformat_minor": 5
}
